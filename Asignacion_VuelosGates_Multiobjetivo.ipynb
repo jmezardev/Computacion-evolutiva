{
  "cells": [
    {
      "cell_type": "markdown",
      "metadata": {
        "id": "2VP6d4IEg-qk"
      },
      "source": [
        "# Optimizacion Industrial con Computacion Evolutiva\n",
        "<b> Diplomatura de Especialización en Desarrollo de Aplicaciones con Inteligencia Artificial</b>\n",
        "\n",
        "Dr. Edwin Villanueva (ervillanueva@pucp.edu.pe)"
      ]
    },
    {
      "cell_type": "markdown",
      "metadata": {
        "id": "s4LxYBghg-qy"
      },
      "source": [
        "## Asignación de vuelos a gates en aeropuerto\n",
        "\n",
        "Esta  notebook implementa un algoritmo genético monoobjetivo para la resolución de la asignación de vuelos a gates. Los operadores de cruzamiento y mutación NO aseguran que los individuos representen vuelos diferentes y gates diferentes.\n",
        "\n",
        "#### Representacion de Individuo:\n",
        "\n",
        "Un objeto Individual representaa una determinada asignacion de un subconjunto de vuelos (almacenado en <b>list_of_flights</b>) a un conjunto de gates (almacenado en <b>chromosome</b>). La lista de gates disponibles que se pueden asignar a los vuelos se almacena en la variable <b>allele_pool</b>  del individuo. Ver el siguiente grafico ilustrativo:\n",
        "\n",
        "<img src=\"EjemploIndividuoAvion.jpg\">\n",
        "\n"
      ]
    },
    {
      "cell_type": "code",
      "execution_count": 1,
      "metadata": {
        "id": "3BiTFdyNhskY"
      },
      "outputs": [],
      "source": [
        "import sys\n",
        "import time\n",
        "import numpy as np\n",
        "import random\n",
        "from random import seed, randint, sample, uniform, randrange\n",
        "from copy import deepcopy\n",
        "import matplotlib.pyplot as plt\n",
        "import pandas as pd"
      ]
    },
    {
      "cell_type": "markdown",
      "metadata": {
        "id": "IRVDEMS3g-q1"
      },
      "source": [
        "### Clase <b>Individual</b>\n",
        "\n",
        "Esta es una clase para definir a un individuo de la población. Cada individuo posee un cromosoma, los vuelos a asignar, todos los posibles alelos y su respectivo fitness. Además, los métodos de esta clase permiten realizar el cruzamiento (crossover) y la mutación (mutation) sobre el cromosoma del individuo."
      ]
    },
    {
      "cell_type": "code",
      "execution_count": 2,
      "metadata": {
        "id": "wD-qU6LnGM8_"
      },
      "outputs": [],
      "source": [
        "# Clase que implementa el individuo y sus operadores\n",
        "class Individual(object):\n",
        "    \n",
        "    # El constructor recibe la lista de vuelos que representa el individuo y los gates asignados, asi como el pool de flights y gates\n",
        "    def __init__(self, flights, gates, flights_pool, gates_pool):  \n",
        "        self.flights = flights[:]\n",
        "        self.gates = gates[:]\n",
        "        self.flights_pool = flights_pool\n",
        "        self.gates_pool = gates_pool\n",
        "        self.fitness = -1  # -1 indica que el individuo no ha sido evaluado\n",
        "\n",
        "    def crossover_onepoint(self, other):\n",
        "        \"Retorna dos nuevos individuos del cruzamiento de un punto entre individuos self y other \"\n",
        "      \n",
        "        c1=True\n",
        "        c2=True\n",
        "        c3=True\n",
        "        c4=True\n",
        "        c=0\n",
        "        s=0\n",
        "        while (c1 or c2 or c3 or c4) == True:\n",
        "          c = randrange(len(self.gates))    # escoge aleatoriamento una posicion en la lista gates\n",
        "          s = randrange(len(self.flights))  # escoge aleatoriamento una posicion en la lista vuelos(fligths)\n",
        "          vh1=self.flights[:s] + other.flights[s:]\n",
        "          vh2=other.flights[:s] + self.flights[s:]\n",
        "          gh1=self.gates[:c] + other.gates[c:]\n",
        "          gh2=other.gates[:c] + self.gates[c:]\n",
        "\n",
        "          c1=any(vh1.count(element) > 1 for element in vh1 )\n",
        "          c2=any(vh2.count(element) > 1 for element in vh2 )\n",
        "          c3=any(gh1.count(element) > 1 for element in gh1 )\n",
        "          c4=any(gh2.count(element) > 1 for element in gh2 )    \n",
        "\n",
        "        ind1 = Individual(self.flights[:s] + other.flights[s:], self.gates[:c] + other.gates[c:], self.flights_pool, self.gates_pool)\n",
        "        ind2 = Individual(other.flights[:s] + self.flights[s:],other.gates[:c] + self.gates[c:], self.flights_pool, self.gates_pool)\n",
        "        return [ind1, ind2]\n",
        "  \n",
        "    def crossover_uniform(self, other):\n",
        "        \"Retorna dos nuevos individuos del cruzamiento uniforme entre self y other \"\n",
        "        gates_ind1 = deepcopy(self.gates)\n",
        "        gates_ind2 = deepcopy(other.gates)\n",
        "        flights_ind1 = deepcopy(self.flights)\n",
        "        flights_ind2 = deepcopy(other.flights)\n",
        "        for i in range(len(self.gates)):\n",
        "            if uniform(0, 1) < 0.5:\n",
        "              if other.gates[i] not in gates_ind1:\n",
        "                gates_ind1[i] = other.gates[i]\n",
        "              if self.gates[i] not in gates_ind2:\n",
        "                gates_ind2[i] = self.gates[i]\n",
        "              \n",
        "                  \n",
        "        for j in range(len(self.flights)):\n",
        "            if uniform(0, 1) < 0.5:\n",
        "              if other.flights[j] not in flights_ind1:\n",
        "                flights_ind1[j] = other.flights[j]\n",
        "              if self.flights[j] not in flights_ind2:\n",
        "                flights_ind2[j] = self.flights[j]\n",
        "            \n",
        "        \n",
        "        ind1 = Individual(flights_ind1, gates_ind1, self.flights_pool, self.gates_pool)\n",
        "        ind2 = Individual(flights_ind2, gates_ind2, self.flights_pool, self.gates_pool)\n",
        "        return [ind1, ind2]\n",
        "  \n",
        "    def mutate_position(self):\n",
        "        \"Cambia aleatoriamente el Gate asignado a un Flight.\"\n",
        "        mutated_gates = deepcopy(self.gates)\n",
        "        mutated_flight = deepcopy(self.flights)\n",
        "\n",
        " #       indexGate = randrange(0, len(self.gates)) # escoje el indice del elemento de gates que sera mutado\n",
        " #       indexFlight = randrange(0, len(self.flights))\n",
        "\n",
        " #       newGate = self.gates_pool[randrange(0, len(self.gates_pool))]\n",
        " #       newFlight = self.flights_pool[randrange(0, len(self.flights_pool))]\n",
        "\n",
        " #       mutated_gates[indexGate] = newGate\n",
        " #       mutated_flight[indexFlight] = newFlight\n",
        "\n",
        "        c1=True\n",
        "        c2=False\n",
        "\n",
        "        while (c1 or c2) == True:\n",
        "              indexGate = randrange(0, len(self.gates)) # escoje el indice del elemento de gates que sera mutado\n",
        "              indexFlight = randrange(0, len(self.flights))\n",
        "              newGate = self.gates_pool[randrange(0, len(self.gates_pool))]\n",
        "              newFlight = self.flights_pool[randrange(0, len(self.flights_pool))]\n",
        "              mutated_gates[indexGate] = newGate\n",
        "              mutated_flight[indexFlight] = newFlight\n",
        "    #         print(c1,c2)\n",
        "    #         print(mutated_gates[indexGate])\n",
        "              c1=any(mutated_gates.count(element) > 1 for element in mutated_gates)\n",
        "              c2=any(mutated_flight.count(element) > 1 for element in mutated_flight)\n",
        "\n",
        "        mutated_gates[indexGate] = newGate\n",
        "        mutated_flight[indexFlight] = newFlight\n",
        "\n",
        "        return Individual(mutated_flight, mutated_gates, self.flights_pool, self.gates_pool)"
      ]
    },
    {
      "cell_type": "markdown",
      "metadata": {
        "id": "c8x_4uA5i9XT"
      },
      "source": [
        "### Clase <b>Gate</b>\n",
        "\n",
        "Esta es una clase abstracta para definir los lugares donde los vuelos serán asignados. Se debe hacer subclases con el fin de diferenciar los tipos de lugar donde un vuelo puede ser asignado."
      ]
    },
    {
      "cell_type": "code",
      "execution_count": 3,
      "metadata": {
        "id": "rycIj2j6i_PZ"
      },
      "outputs": [],
      "source": [
        "class Gate(object):\n",
        "    def __init__(self, identifier, x, y, z):\n",
        "        self.identifier = identifier   # identificador del Gate\n",
        "        self.distance = x              # en el caso de Sleeve esto almacena la longitud de manga. En el caso de zonas es la distancia a una puerta del aeropuerto \n",
        "        self.potential_of_speed = y    # en el caso de Sleeve esto almacena la velocidad de pasajeros en manga. En el caso de zona almacena la velocidad del bus \n",
        "        self.number_of_persons_every_10m = z   # en el caso de Sleeve esto almacena el numero de personas cada 10 metros. En el cazo de zona es la capacidad del bus\n",
        "  \n",
        "    def __hash__(self):\n",
        "        return self.identifier\n",
        "    \n",
        "    def __eq__(self, otro_gate):\n",
        "        return self.identifier==otro_gate.identifier\n",
        "    def __str__(self):\n",
        "        return self.identifier + ' , ' + self.distance + ' , '+ self.potential_of_speed"
      ]
    },
    {
      "cell_type": "markdown",
      "metadata": {
        "id": "fbHPYQ4qj6fb"
      },
      "source": [
        "### Clase <b>Sleeve</b>\n",
        "\n",
        "Esta clase implementa concretamente el Gate tipo Sleeve (Manga). En este tipo de gate, los pasajeros deben realizar un recorrido a pie hasta abandonar totalmente el Gate. Se tiene en cuenta la longitud de la manga, la velocidad de los pasajeros y la cantidad de personas que pueden estar cada 10m (este valor es variable porque ya refleja el ancho de la manga, puesto que una manga más ancha permite una mayor cantidad de pasajeros)."
      ]
    },
    {
      "cell_type": "code",
      "execution_count": 4,
      "metadata": {
        "id": "E9XCmO-3j472"
      },
      "outputs": [],
      "source": [
        "class Sleeve(Gate):\n",
        "    def __init__(self, identifier, length_of_sleeve, speed_of_passengers_on_sleeve, number_of_passengers_every_10m):\n",
        "        super().__init__(identifier, length_of_sleeve, speed_of_passengers_on_sleeve, number_of_passengers_every_10m)"
      ]
    },
    {
      "cell_type": "markdown",
      "metadata": {
        "id": "0T5fySg6lytA"
      },
      "source": [
        "### Clase <b>Zone</b>\n",
        "\n",
        "Esta clase implementa concretamente el Gate tipo Zone (zona). En este tipo de gate, los pasajeros son recogidos por un bus y son llevados hasta una puerta. Se tiene en cuenta la distancia de la zona a la puerta, la velocidad y capacidad del bus."
      ]
    },
    {
      "cell_type": "code",
      "execution_count": 5,
      "metadata": {
        "id": "yzwjyLG_l0nz"
      },
      "outputs": [],
      "source": [
        "class Zone(Gate):\n",
        "    def __init__(self, identifier, distance_zone_door, speed_bus, capacity_of_bus):\n",
        "        super().__init__(identifier, distance_zone_door, speed_bus, capacity_of_bus)"
      ]
    },
    {
      "cell_type": "markdown",
      "metadata": {
        "id": "ieZ9wq8amMgT"
      },
      "source": [
        "### Clase <b>Flight</b>\n",
        "\n",
        "Esta es una clase para definir a los vuelos a asignar. Cada vuelo posee una capacidad máxima, la cantidad de pasajeros, el tiempo de estacionamiento que le toma al vuelo, la longitud de las alas del avión, el tiempo de inspección al avión luego de aterrizar, el tiempo que demorarían en bajar las escaleras los pasajeros si el avión estuviera repleto, el momento de llegada al aeropuerto y el momento en que debería irse del aeropuerto."
      ]
    },
    {
      "cell_type": "code",
      "execution_count": 6,
      "metadata": {
        "id": "3Nt88YPkmLb7"
      },
      "outputs": [],
      "source": [
        "class Flight(object):\n",
        "    def __init__(self, identifier, maximum_capacity, number_of_passengers, parking_time, length_wings, inspection_time, landing_time_on_stairs, arriving_time, leaving_time):\n",
        "        self.identifier = identifier  # identificador de vuelo\n",
        "        self.maximum_capacity = maximum_capacity  # maxima capacidad del vuelo\n",
        "        self.number_of_passengers = number_of_passengers  # numero de pasajeros\n",
        "        self.parking_time = parking_time   # tiempo de parqueo\n",
        "        self.length_wings = length_wings   # longitud de las alas\n",
        "        self.inspection_time = inspection_time  # tiempo de inspeccion\n",
        "        self.landing_time_on_stairs = landing_time_on_stairs  \n",
        "        self.arriving_time = arriving_time   # tiempo de llegada al aeropuerto\n",
        "        self.leaving_time = leaving_time   # tiempo de partida del aeropuerto\n",
        "  \n",
        "    def __hash__(self):\n",
        "        return self.identifier\n",
        "\n",
        "    def __eq__(self, otro_flight):\n",
        "        return self.identifier==otro_flight.identifier"
      ]
    },
    {
      "cell_type": "markdown",
      "metadata": {
        "id": "tJ5cKDEOg-q4"
      },
      "source": [
        "### Funciones utilitarias para generar los Gates y Vuelos</b>\n",
        "Estas son funciones utilitarias para generar automáticamente los Gates y Vuelos"
      ]
    },
    {
      "cell_type": "code",
      "execution_count": 7,
      "metadata": {
        "id": "k8p8en78FCcq"
      },
      "outputs": [],
      "source": [
        "# Genera una lista de Gates\n",
        "def generate_list_of_gates(number_of_gates, max_length_of_sleeve=20, max_speed_of_passengers_on_sleeve=3, max_number_of_passengers_every_10m=12, max_distance_zone_door=50, max_speed_bus=15, max_capacity_of_bus=200):\n",
        "  list_of_gates = list()\n",
        "\n",
        "  for gate_identifier in range(number_of_gates):\n",
        "    gate_type = randint(0, 1)\n",
        "\n",
        "    if gate_type == 0:   # caso manga\n",
        "      distance = randint(1, max_length_of_sleeve)\n",
        "      potential_of_speed = randint(1, max_speed_of_passengers_on_sleeve)\n",
        "      number_of_persons_every_10m = randint(1, max_number_of_passengers_every_10m)\n",
        "\n",
        "      gate = Sleeve(gate_identifier, distance, potential_of_speed, number_of_persons_every_10m)\n",
        "   \n",
        "    else:    # caso zone\n",
        "      distance = randint(1, max_distance_zone_door)\n",
        "      potential_of_speed = randint(1, max_speed_bus)\n",
        "      number_of_persons_every_10m = randint(1, max_capacity_of_bus)\n",
        "\n",
        "      gate = Zone(gate_identifier, distance, potential_of_speed, number_of_persons_every_10m)\n",
        "    \n",
        "    list_of_gates.append(gate)\n",
        "  \n",
        "  return list_of_gates\n",
        "\n",
        "# Genera una lista de Flights\n",
        "def generate_list_of_flights(number_of_flights, max_maximum_capacity=100, max_number_of_passengers_factor=0.8, max_parking_time=30, max_length_wings=25, max_inspection_time=180, max_landing_time_on_stairs=60, max_arriving_time=200, max_leaving_time=1000):\n",
        "  list_of_flights = list()\n",
        "\n",
        "  max_number_of_passengers = max_number_of_passengers_factor * max_maximum_capacity\n",
        "\n",
        "  for flight_identifier in range(number_of_flights):\n",
        "    maximum_capacity = randint(max_number_of_passengers, max_maximum_capacity)\n",
        "    number_of_passengers = randint(1, max_number_of_passengers)\n",
        "    parking_time = randint(1, max_parking_time)\n",
        "    length_wings = randint(1, max_length_wings)\n",
        "    inspection_time = randint(1, max_inspection_time)\n",
        "    landing_time_on_stairs = randint(1, max_landing_time_on_stairs)\n",
        "    arriving_time = randint(1, max_arriving_time)\n",
        "    leaving_time = randint(max_arriving_time + 1, max_leaving_time)\n",
        "\n",
        "    flight = Flight(flight_identifier, maximum_capacity, number_of_passengers, parking_time, length_wings, inspection_time, landing_time_on_stairs, arriving_time, leaving_time)\n",
        "    \n",
        "    list_of_flights.append(flight)\n",
        "  \n",
        "  return list_of_flights"
      ]
    },
    {
      "cell_type": "markdown",
      "metadata": {
        "id": "uHsytNf6oaXJ"
      },
      "source": [
        "### Funciones utilitarias para ordenar los Vuelos y Gates</b>\n",
        "Estas son funciones utilitarias para ordenar los Vuelos acorde a su deseabilidad y los Gates por su flujo personas"
      ]
    },
    {
      "cell_type": "code",
      "execution_count": 8,
      "metadata": {
        "id": "25baejsnob3d"
      },
      "outputs": [],
      "source": [
        "# Funcion para ordenar vuelos por su grado de deseabilidad  ( nro_pasajeros/tiempo_en_aeropuerto )\n",
        "def process_desirability(n):\n",
        "  return n.number_of_passengers / (n.leaving_time - n.arriving_time)\n",
        "\n",
        "# Funcion para ordenar Gates por su capacidad de flujo de personas  \n",
        "def process_flow(n):\n",
        "  return n.number_of_persons_every_10m * n.potential_of_speed * 10 / n.distance"
      ]
    },
    {
      "cell_type": "markdown",
      "metadata": {
        "id": "Gqws5RELpMG1"
      },
      "source": [
        "### Funciones utilitarias para el Algoritmo Genético</b>\n",
        "Estas son funciones utilitarias para realizar el Algoritmo Genético que se encargue de la asignación de vuelos"
      ]
    },
    {
      "cell_type": "code",
      "execution_count": 9,
      "metadata": {
        "id": "V8d0ejc1iPca"
      },
      "outputs": [],
      "source": [
        "# Inicialización aleatoria de la población\n",
        "def init_population(population_number, flights_to_assign, list_of_flights, list_of_gates):\n",
        "  population = []\n",
        "  for i in range(population_number):\n",
        "    flights = sample(list_of_flights, flights_to_assign)  # escoge los vuelos del individuo\n",
        "    gates = sample(list_of_gates, flights_to_assign) # escoge los gates del individuo\n",
        "    \n",
        "    population.append( Individual(flights, gates, list_of_flights, list_of_gates) )\n",
        "  return population"
      ]
    },
    {
      "cell_type": "code",
      "execution_count": 10,
      "metadata": {
        "id": "dBLnrMPViPcb"
      },
      "outputs": [],
      "source": [
        "# Evalua una individuo representado por sus listas:  flights, gates\n",
        "def fitness(flights, gates):\n",
        "  grace_time = 5/100\n",
        "\n",
        "  cumulative_efficiency = 0\n",
        "  for flight, gate in zip(flights, gates):\n",
        "    number_of_passengers = flight.number_of_passengers\n",
        "    if isinstance(gate, Sleeve):  # si el gate es de tipo Manga \n",
        "      disembarkation_time_of_passengers = ( (number_of_passengers * (gate.distance + flight.length_wings) / process_flow(gate)) + flight.parking_time + flight.inspection_time ) * (1 + grace_time)\n",
        "    else:  # si el gate es de tipo Zona\n",
        "      disembarkation_time_of_passengers = ( (number_of_passengers * gate.distance / process_flow(gate)) + flight.parking_time + (flight.landing_time_on_stairs * number_of_passengers / flight.maximum_capacity) + flight.inspection_time ) * (1 + grace_time)\n",
        "    \n",
        "    # la eficiencia de una asignacion flight-gate es la cantidad total de pasajeros desembarcados por unidad de tiempo \n",
        "    cumulative_efficiency += number_of_passengers / disembarkation_time_of_passengers\n",
        "  return cumulative_efficiency\n"
      ]
    },
    {
      "cell_type": "code",
      "source": [
        "# Evalua una individuo representado por sus listas:  flights, gates\n",
        "def fitness_m(flights, gates):\n",
        "  fitness = np.zeros(2) \n",
        "  grace_time = 5/100\n",
        "  sum_pasajeros = 0\n",
        "  sum_tiempo = 0 \n",
        "  cumulative_efficiency = 0\n",
        "  for flight, gate in zip(flights, gates):\n",
        "    number_of_passengers = flight.number_of_passengers\n",
        "    if isinstance(gate, Sleeve):  # si el gate es de tipo Manga \n",
        "      disembarkation_time_of_passengers = ( (number_of_passengers * (gate.distance + flight.length_wings) / process_flow(gate)) + flight.parking_time + flight.inspection_time ) * (1 + grace_time)\n",
        "    else:  # si el gate es de tipo Zona\n",
        "      disembarkation_time_of_passengers = ( (number_of_passengers * gate.distance / process_flow(gate)) + flight.parking_time + (flight.landing_time_on_stairs * number_of_passengers / flight.maximum_capacity) + flight.inspection_time ) * (1 + grace_time)\n",
        "    \n",
        "    # la eficiencia de una asignacion flight-gate es la cantidad total de pasajeros desembarcados por unidad de tiempo \n",
        "    #cumulative_efficiency += number_of_passengers / disembarkation_time_of_passengers\n",
        "    sum_pasajeros += number_of_passengers\n",
        "    sum_tiempo += disembarkation_time_of_passengers\n",
        "    if  sum_tiempo != 0:\n",
        "        fitness[0] = sum_pasajeros\n",
        "        fitness[1] = 1/sum_tiempo   # es una medida de Ligereza \n",
        "    else:\n",
        "        fitness[0] = sum_pasajeros\n",
        "        fitness[1] = 0\n",
        "  return fitness"
      ],
      "metadata": {
        "id": "R8ELtxFxtgWu"
      },
      "execution_count": 11,
      "outputs": []
    },
    {
      "cell_type": "code",
      "execution_count": 12,
      "metadata": {
        "id": "fACJMo2eiPcc"
      },
      "outputs": [],
      "source": [
        "# Evaluar la población con la función fitness\n",
        "def evaluate_population(population, fitness_fn):\n",
        "  \"\"\" Evalua una poblacion de individuos con la funcion de fitness pasada \"\"\"\n",
        "  population_size = len(population)\n",
        "  for i in range(population_size):\n",
        "    if population[i].fitness == -1:    # Evalúa sólo si el individuo no esta evaluado\n",
        "      population[i].fitness = fitness_fn(population[i].flights, population[i].gates)"
      ]
    },
    {
      "cell_type": "code",
      "execution_count": 13,
      "metadata": {
        "id": "xeZH39HRiPcc"
      },
      "outputs": [],
      "source": [
        "# Selección de padres por el método roulette\n",
        "def select_parents_roulette(population):\n",
        "    popsize = len(population)\n",
        "    \n",
        "    # Escoje el primer padre\n",
        "    sumfitness = sum([indiv.fitness for indiv in population])  # suma total del fitness de la poblacion\n",
        "    pickfitness = random.uniform(0, sumfitness)   # escoge un numero aleatorio entre 0 y sumfitness\n",
        "    cumfitness = 0     # fitness acumulado\n",
        "    for i in range(popsize):\n",
        "        cumfitness += population[i].fitness\n",
        "        if cumfitness > pickfitness: \n",
        "            iParent1 = i\n",
        "            break\n",
        "    \n",
        "    # Escoje el segundo padre, desconsiderando el primer padre\n",
        "    sumfitness = sumfitness - population[iParent1].fitness # retira el fitness del padre ya escogido\n",
        "    pickfitness = random.uniform(0, sumfitness)   # escoge un numero aleatorio entre 0 y sumfitness\n",
        "    cumfitness = 0     # fitness acumulado\n",
        "    for i in range(popsize):\n",
        "        if i == iParent1: continue   # si es el primer padre \n",
        "        cumfitness += population[i].fitness\n",
        "        if cumfitness > pickfitness: \n",
        "            iParent2 = i\n",
        "            break        \n",
        "    return (population[iParent1], population[iParent2])"
      ]
    },
    {
      "cell_type": "code",
      "execution_count": 14,
      "metadata": {
        "id": "fJJcwlnPiPcd"
      },
      "outputs": [],
      "source": [
        "# Selección de padres por el método de torneo\n",
        "def select_parents_tournament(population, tournament_size):\n",
        "    # Escoje el primer padre\n",
        "    list_indiv=[]\n",
        "    x1 = np.random.permutation(len(population) )\n",
        "    y1= x1[0:tournament_size]\n",
        "    for i in range(tournament_size):\n",
        "        list_indiv.append(population[y1[i]].fitness)\n",
        "    \n",
        "    iParent1=np.argmax(list_indiv)\n",
        "    \n",
        "    # Escoje el segundo padre, desconsiderando el primer padre   \n",
        "    x2 = np.delete(x1, iParent1)\n",
        "    x2 = np.random.permutation(x2)\n",
        "    list_indiv=[]\n",
        "    y2= x2[0:tournament_size]\n",
        "    for i in range(tournament_size):\n",
        "        list_indiv.append(population[y2[i]].fitness)\n",
        "    iParent2=np.argmax(list_indiv)\n",
        "    \n",
        "    return (population[x1[iParent1]],population[x2[iParent2]])"
      ]
    },
    {
      "cell_type": "code",
      "execution_count": 15,
      "metadata": {
        "id": "gi4V_8imiPce"
      },
      "outputs": [],
      "source": [
        "# Selección de la nueva población con metodo de ranking\n",
        "def select_survivors_ranking(population, offspring_population, numsurvivors):\n",
        "    next_population = []\n",
        "    population.extend(offspring_population) # une las dos poblaciones\n",
        "    survivors = sorted(population, key=lambda x: x.fitness, reverse=True)[:numsurvivors]\n",
        "    next_population.extend(survivors)\n",
        "    return next_population"
      ]
    },
    {
      "cell_type": "markdown",
      "metadata": {
        "id": "Two9It-IiPce"
      },
      "source": [
        "### Algoritmo Genético"
      ]
    },
    {
      "cell_type": "code",
      "execution_count": 16,
      "metadata": {
        "id": "XlgLVnr-iPce"
      },
      "outputs": [],
      "source": [
        "def genetic_algorithm(list_of_flights, list_of_gates, num_individuals, flights_to_assign, fitness_fn, n_generations, \n",
        "                      selection_fn=\"roulette\", crossover=\"onepoint\", mutation=\"position\", p_mut=0.1):\n",
        "  #seed(0)\n",
        "\n",
        "  #Inicializa una poblacion inicial de forma aleatoria\n",
        "  population = init_population(num_individuals, flights_to_assign, list_of_flights, list_of_gates)\n",
        "\n",
        "  population_size = len(population)\n",
        "  evaluate_population(population, fitness_fn)\n",
        "\n",
        "  best_ind = sorted(population, key=lambda x: x.fitness, reverse=True)[0]  # mejor individuo\n",
        "  bestfitness = [best_ind.fitness]  # guarda el fitness del mejor individuo  \n",
        "  print(\"Poblacion inicial, best_fitness = {}\".format(best_ind.fitness))\n",
        "  \n",
        "  for g in range(n_generations): # ciclo evolutivo\n",
        "    \n",
        "    ## Selecciona parejas de individuos (mating_pool) para cruzamiento con el metodo de la ruleta\n",
        "    mating_pool = []\n",
        "    for i in range(int(population_size/2)):\n",
        "      if selection_fn == \"roulette\":\n",
        "        mating_pool.append(select_parents_roulette(population))\n",
        "      elif selection_fn == \"tournament\":\n",
        "        mating_pool.append(select_parents_tournament(population, 3))  #torneo de tamaño 3\n",
        "      else:\n",
        "        raise NotImplementedError\n",
        "\n",
        "    ## Crea la poblacion descendencia cruzando las parejas del mating pool     \n",
        "    offspring_population = []\n",
        "    for i in range(len(mating_pool)):\n",
        "      if crossover == \"onepoint\":\n",
        "        offspring_population.extend( mating_pool[i][0].crossover_onepoint(mating_pool[i][1]) )\n",
        "      elif crossover == \"uniform\":\n",
        "        offspring_population.extend( mating_pool[i][0].crossover_uniform(mating_pool[i][1]) )\n",
        "      else:\n",
        "        raise NotImplementedError\n",
        "    \n",
        "    ## Aplica el operador de mutacion con probabilidad pmut en cada hijo generado\n",
        "    for i in range(len(offspring_population)):\n",
        "      if uniform(0, 1) < p_mut: \n",
        "        if mutation == \"position\":\n",
        "          offspring_population[i] = offspring_population[i].mutate_position()\n",
        "        else:\n",
        "          raise NotImplementedError  \n",
        "\n",
        "    ## Evalua la poblacion descendencia creada\n",
        "    evaluate_population(offspring_population, fitness_fn)\n",
        "    \n",
        "    ## Selecciona individuos para la sgte. generación con el metodo de ranking\n",
        "    population = select_survivors_ranking(population, offspring_population, population_size) #metodo de ranking\n",
        "\n",
        "    ## Almacena la historia del fitness del mejor individuo\n",
        "    best_ind = sorted(population, key=lambda x: x.fitness, reverse=True)[0]  # mejor individuo de la poblacion actual\n",
        "    bestfitness.append(best_ind.fitness)\n",
        "        \n",
        "    if (g % 10 == 0):  # muestra resultados cada 10 generaciones\n",
        "      print(\"generacion {}, (Mejor fitness = {})\".format(g, best_ind.fitness))\n",
        "        \n",
        "  return best_ind, bestfitness  # devuelve el mejor individuo y la lista de mejores fitness x gen    "
      ]
    },
    {
      "cell_type": "markdown",
      "metadata": {
        "id": "fq17FXyqSMDp"
      },
      "source": [
        "### Funciones utilitarias para manejar la solución del Algoritmo Genético</b>\n",
        "Esta es una función utilitarias que permite mostrar la configuración usada en el Algoritmo Genético y la asignación de Vuelos a Gates encontrada en un individuo pasado (ind)"
      ]
    },
    {
      "cell_type": "code",
      "execution_count": 17,
      "metadata": {
        "id": "yb6LUKwKpXDJ"
      },
      "outputs": [],
      "source": [
        "def make_solution_report(ind, selection_fn, crossover, mutation):\n",
        "  print(\"Selection: {} - Crossover: {} - Mutation: {} - Fitness: {}\".format(selection_fn, crossover, mutation, ind.fitness), flush=True)\n",
        "  print(\" - \".join([\"Flight {} in {} {}\".format(flight.identifier, \"Zone\" if isinstance(gate, Zone) == True else \"Sleeve\", gate.identifier) for flight, gate in zip(ind.flights, ind.gates)]) + \"\\n\", flush=True)"
      ]
    },
    {
      "cell_type": "markdown",
      "metadata": {
        "id": "vviyzixuS4VP"
      },
      "source": [
        "**</b>Implementacion del algoritmo genetico multiobjetio</b>**\n",
        "\n",
        "En esta parte desarrollaremos las funciones necesarias para implementar el algormos Multiobjetivo\n"
      ]
    },
    {
      "cell_type": "code",
      "source": [
        "def get_crowding_distances(fitnesses):\n",
        "    \"\"\"\n",
        "    La distancia crowding de un individuo es la diferencia del fitness mas proximo hacia arriba menos el fitness mas proximo \n",
        "    hacia abajo. El valor crowding total es la suma de todas las distancias crowdings para todos los fitness\n",
        "    \"\"\"\n",
        "    \n",
        "    pop_size = len(fitnesses[:, 0])\n",
        "    num_objectives = len(fitnesses[0, :])\n",
        "\n",
        "    # crea matriz crowding. Filas representan individuos, columnas representan objectives\n",
        "    crowding_matrix = np.zeros((pop_size, num_objectives))\n",
        "\n",
        "    # normalisa los fitnesses entre 0 y 1 (ptp es max - min)\n",
        "    normalized_fitnesses = (fitnesses - fitnesses.min(0)) / fitnesses.ptp(0)\n",
        "\n",
        "    for col in range(num_objectives):   # Por cada objective\n",
        "        crowding = np.zeros(pop_size)\n",
        "\n",
        "        # puntos extremos tienen maximo crowding\n",
        "        crowding[0] = 1\n",
        "        crowding[pop_size - 1] = 1\n",
        "\n",
        "        # ordena los fitness normalizados del objectivo actual\n",
        "        sorted_fitnesses = np.sort(normalized_fitnesses[:, col])\n",
        "        sorted_fitnesses_index = np.argsort(normalized_fitnesses[:, col])\n",
        "\n",
        "        # Calcula la distancia crowding de cada individuo como la diferencia de score de los vecinos\n",
        "        crowding[1:pop_size - 1] = (sorted_fitnesses[2:pop_size] - sorted_fitnesses[0:pop_size - 2])\n",
        "\n",
        "        # obtiene el ordenamiento original\n",
        "        re_sort_order = np.argsort(sorted_fitnesses_index)\n",
        "        sorted_crowding = crowding[re_sort_order]\n",
        "\n",
        "        # Salva las distancias crowdingpara el objetivo que se esta iterando\n",
        "        crowding_matrix[:, col] = sorted_crowding\n",
        "\n",
        "    # Obtiene las distancias crowding finales sumando las distancias crowding de cada objetivo \n",
        "    crowding_distances = np.sum(crowding_matrix, axis=1)\n",
        "\n",
        "    return crowding_distances"
      ],
      "metadata": {
        "id": "lq8mFZiMUJlE"
      },
      "execution_count": 18,
      "outputs": []
    },
    {
      "cell_type": "code",
      "source": [
        "def select_by_crowding(population, num_individuals):\n",
        "    \"\"\"\n",
        "    Selecciona una poblacion de individuos basado en torneos de pares de individuos: dos individuos se escoge al azar\n",
        "    y se selecciona el mejor segun la distancia crowding. Se repite hasta obtener num_individuals individuos\n",
        "    \"\"\"    \n",
        "    population = deepcopy(population)\n",
        "    pop_size = len(population)\n",
        "    \n",
        "    num_objectives = len(population[0].fitness)\n",
        "    \n",
        "    # extrae los fitness de la poblacion en la matriz fitnesses\n",
        "    fitnesses = np.zeros([pop_size, num_objectives])\n",
        "    for i in range(pop_size): fitnesses[i,:] = population[i].fitness\n",
        "        \n",
        "    # obtiene las  distancias  crowding\n",
        "    crowding_distances = get_crowding_distances(fitnesses)   \n",
        "    \n",
        "    population_selected = []   # poblacion escogida\n",
        "\n",
        "    for i in range(num_individuals):  # por cada individuo a seleccionar\n",
        "\n",
        "        # escoje dos individuos aleatoriamente de la poblacion no escogida aun\n",
        "        permut = np.random.permutation( len(population) )\n",
        "        ind1_id = permut[0]\n",
        "        ind2_id = permut[1]\n",
        "\n",
        "        # Si ind1_id es el mejor\n",
        "        if crowding_distances[ind1_id] >= crowding_distances[ind2_id]:\n",
        "\n",
        "            # traslada el individuo ind1 de population a la lista de individuos seleccionados\n",
        "            population_selected.append( population.pop(ind1_id) )\n",
        "            # remueve la distancia crowding del individuo seleccionado\n",
        "            crowding_distances = np.delete(crowding_distances, ind1_id, axis=0)\n",
        "            \n",
        "        else:  # Si ind2_id es el mejor\n",
        "            \n",
        "            # traslada el individuo ind2 de population a la lista de individuos seleccionados\n",
        "            population_selected.append( population.pop(ind2_id) )\n",
        "            # remueve la distancia crowding del individuo seleccionado\n",
        "            crowding_distances = np.delete(crowding_distances, ind2_id, axis=0)\n",
        "\n",
        "    return (population_selected)"
      ],
      "metadata": {
        "id": "CTbFUQ7xUN2T"
      },
      "execution_count": 19,
      "outputs": []
    },
    {
      "cell_type": "code",
      "source": [
        "def get_paretofront_population(population):\n",
        "    \"\"\"\n",
        "    Obtiene de population la poblacion de individups de la frontera de Pareto, \n",
        "    \"\"\"\n",
        "    population = deepcopy(population)\n",
        "    pop_size = len(population)\n",
        "    \n",
        "    # todos los individuos son inicialmente asumidos como la frontera de Pareto\n",
        "    pareto_front = np.ones(pop_size, dtype=bool)\n",
        "    \n",
        "    for i in range(pop_size): # Compara cada individuo contra todos los demas\n",
        "        for j in range(pop_size):\n",
        "            # Chequea si individuo 'i' es dominado por individuo 'j'\n",
        "            #if all(population[j].fitness >= population[i].fitness) and any(population[j].fitness > population[i].fitness):\n",
        "            #if str(all(population[j].fitness >= population[i].fitness)) and str(any(population[j].fitness > population[i].fitness)):\n",
        "            if all(np.asarray(population[j].fitness) >= np.asarray(population[i].fitness)) and any(np.asarray(population[j].fitness) > np.asarray(population[i].fitness)):\n",
        "                # j domina i -> señaliza que individuo 'i' como no siendo parte de la frontera de Pareto\n",
        "                pareto_front[i] = 0\n",
        "                break   # Para la busqueda para 'i' (no es necesario hacer mas comparaciones)\n",
        "\n",
        "    paretofront_population = []\n",
        "    for i in range(pop_size):  # construye la lista de individuos de la frontera de Pareto \n",
        "        if pareto_front[i] == 1: paretofront_population.append(population[i])\n",
        "        \n",
        "    return paretofront_population"
      ],
      "metadata": {
        "id": "SmolbXcnUQpG"
      },
      "execution_count": 39,
      "outputs": []
    },
    {
      "cell_type": "code",
      "source": [
        "def build_next_population(population, min_pop_size, max_pop_size):\n",
        "    \"\"\"\n",
        "    Construye la poblacion de la siguiente generacion añadiendo sucesivas fronteras de Pareto hasta \n",
        "    tener una poblacion de al menos min_pop_size individuos. Reduce la frontera de Pareto con el metodo de\n",
        "    crowding distance si al agregar la frontera excede el tamaño maximo de la poblacion (max_pop_size)\n",
        "    \"\"\"\n",
        "    population = deepcopy(population)\n",
        "    pareto_front = []\n",
        "    next_population = []\n",
        "    \n",
        "    while len(next_population) < min_pop_size:   # mientras la poblacion no tenga el tamaño minimo\n",
        "        # obtiene la poblacion frontera de Pareto actual\n",
        "        paretofront_population = get_paretofront_population(population)\n",
        "        \n",
        "        # si poblacion actual + paretofront excede el maximo permitido -> reduce paretofront con el metodo de crowding\n",
        "        combined_population_size = len(next_population) + len(paretofront_population)\n",
        "        if  combined_population_size > max_pop_size:\n",
        "            paretofront_population = select_by_crowding( paretofront_population, max_pop_size-len(next_population) ) \n",
        "        \n",
        "        # Adiciona la frontera de Pareto (original o reducida) a la poblacion en construccion\n",
        "        next_population.extend( paretofront_population )\n",
        "    \n",
        "        # remueve de population los individuos que fueron agregados a next_population \n",
        "        for i in range( len(paretofront_population) ):\n",
        "            for j in range( len(population) ):\n",
        "                #if all( np.asarray(paretofront_population[i].flights) == np.asarray(population[j].flights) ):\n",
        "                if all( np.asarray(paretofront_population[i].flights) == np.asarray(population[j].flights) ) and all( np.asarray(paretofront_population[i].gates) == np.asarray(population[j].gates) ) :\n",
        "                    del(population[j])\n",
        "                    break\n",
        "                    \n",
        "    return next_population"
      ],
      "metadata": {
        "id": "YO2fyralUW0t"
      },
      "execution_count": 68,
      "outputs": []
    },
    {
      "cell_type": "code",
      "source": [
        "def build_offspring_population(population, crossover, mutation, pmut):     \n",
        "    \"\"\" Construye una poblacion hija con los operadores de cruzamiento y mutacion pasados\n",
        "        crossover:  operador de cruzamiento\n",
        "        mutation:   operador de mutacion\n",
        "        pmut:       taza de mutacion\n",
        "    \"\"\"\n",
        "    pop_size = len(population)\n",
        "    \n",
        "    ## Selecciona parejas de individuos (mating_pool) para cruzamiento \n",
        "    \n",
        "    mating_pool = []\n",
        "    for i in range(int(pop_size/2)): \n",
        "        # escoje dos individuos diferentes aleatoriamente de la poblacion\n",
        "        permut = np.random.permutation( pop_size )\n",
        "        mating_pool.append( (population[permut[0]], population[permut[1]] ) ) \n",
        "        \n",
        "    ## Crea la poblacion descendencia cruzando las parejas del mating pool \n",
        "    offspring_population = []\n",
        "    for i in range(len(mating_pool)): \n",
        "        if crossover == \"onepoint\":\n",
        "            offspring_population.extend( mating_pool[i][0].crossover_onepoint(mating_pool[i][1]) ) # cruzamiento 1 punto\n",
        "        elif crossover == \"uniform\":\n",
        "            offspring_population.extend( mating_pool[i][0].crossover_uniform(mating_pool[i][1]) ) # cruzamiento uniforme\n",
        "        else:\n",
        "            raise NotImplementedError\n",
        "\n",
        "    ## Aplica el operador de mutacion con probabilidad pmut en cada hijo generado\n",
        "    for i in range(len(offspring_population)):\n",
        "        if uniform(0, 1) < pmut: \n",
        "            if mutation == \"position\":\n",
        "                offspring_population[i] = offspring_population[i].mutate_position() # cambia el alelo de un gen\n",
        "            else:\n",
        "                raise NotImplementedError   \n",
        "                \n",
        "    return offspring_population"
      ],
      "metadata": {
        "id": "UM2SuuIyDzxh"
      },
      "execution_count": 54,
      "outputs": []
    },
    {
      "cell_type": "markdown",
      "metadata": {
        "id": "qYjVdTfeg-q6"
      },
      "source": [
        "## <b>Probando el Algoritmo Genético</b> "
      ]
    },
    {
      "cell_type": "markdown",
      "metadata": {
        "id": "1m0pxINHqQ2m"
      },
      "source": [
        "### <b>Generación de Gates y Vuelos</b> \n",
        "\n",
        "Genera los Gates y Vuelos para que el Algoritmo Genético  realize la asignacion. Asegura que el numero de vuelos a asignar (**flights_to_assign**) no sea mayor a la cantidad de puertas "
      ]
    },
    {
      "cell_type": "code",
      "execution_count": 23,
      "metadata": {
        "id": "DaqP5VHngUVg"
      },
      "outputs": [],
      "source": [
        "seed(0)\n",
        "\n",
        "number_of_gates = 10\n",
        "number_of_flights = 30\n",
        "\n",
        "# general los vuelos y gates\n",
        "list_of_gates = generate_list_of_gates(number_of_gates)\n",
        "list_of_flights = generate_list_of_flights(number_of_flights)\n",
        "\n",
        "# obtiene el numero de vuelos que el algoritmo genetico puede asignar (no puede ser mayor al numero de gates disponibles) \n",
        "flights_to_assign = number_of_flights if number_of_flights <= number_of_gates\telse number_of_gates\n",
        "  \n",
        "# ordena los vuelos por su deseabilidad y los gates por su capacidad de flujo de personas\n",
        "list_of_flights = sorted(list_of_flights, key=process_desirability, reverse=True)\n",
        "list_of_gates = sorted(list_of_gates, key=process_flow, reverse=True)"
      ]
    },
    {
      "cell_type": "markdown",
      "metadata": {
        "id": "PmmLPnvYrP6v"
      },
      "source": [
        "### <b>Experimentación con el Algoritmo Genético monoobjetivo con los mejores parametros encontrados en las pruebas </b> "
      ]
    },
    {
      "cell_type": "code",
      "execution_count": 71,
      "metadata": {
        "colab": {
          "base_uri": "https://localhost:8080/",
          "height": 528
        },
        "id": "CnfOnMijrP6x",
        "outputId": "40466a7b-2615-4901-d398-222d40c6d2d7"
      },
      "outputs": [
        {
          "output_type": "stream",
          "name": "stdout",
          "text": [
            "Poblacion inicial, best_fitness = 3.691415518865983\n",
            "generacion 0, (Mejor fitness = 3.7949806091281824)\n",
            "generacion 10, (Mejor fitness = 4.537656448909449)\n",
            "generacion 20, (Mejor fitness = 4.722383359055544)\n",
            "generacion 30, (Mejor fitness = 4.757905555284306)\n",
            "generacion 40, (Mejor fitness = 4.773582469258504)\n",
            "generacion 50, (Mejor fitness = 4.773582469258504)\n",
            "generacion 60, (Mejor fitness = 4.773582469258504)\n",
            "generacion 70, (Mejor fitness = 4.773582469258504)\n",
            "generacion 80, (Mejor fitness = 4.773582469258504)\n",
            "generacion 90, (Mejor fitness = 4.773582469258504)\n"
          ]
        },
        {
          "output_type": "display_data",
          "data": {
            "text/plain": [
              "<Figure size 432x288 with 1 Axes>"
            ],
            "image/png": "[encoded data removed]"
          },
          "metadata": {
            "needs_background": "light"
          }
        },
        {
          "output_type": "stream",
          "name": "stdout",
          "text": [
            "Selection: roulette - Crossover: uniform - Mutation: position - Fitness: 4.773582469258504\n",
            "Flight 3 in Zone 2 - Flight 9 in Sleeve 6 - Flight 12 in Sleeve 8 - Flight 16 in Sleeve 7 - Flight 28 in Zone 0 - Flight 13 in Zone 9 - Flight 7 in Sleeve 4 - Flight 6 in Sleeve 1 - Flight 4 in Sleeve 5 - Flight 25 in Sleeve 3\n",
            "\n"
          ]
        }
      ],
      "source": [
        "num_individuals = 50\n",
        "\n",
        "fitness_fn = fitness\n",
        "n_generations = 100\n",
        "\n",
        "best_fitness = 0\n",
        "\n",
        "selection_fn = \"roulette\"\n",
        "crossover = \"uniform\"\n",
        "mutation = \"position\"\n",
        "p_mut = 0.2\n",
        "\n",
        "# Realiza la asignacion con el algoritmo genetico\n",
        "best_ind, bestfitness = genetic_algorithm(list_of_flights, list_of_gates, num_individuals, flights_to_assign, fitness_fn, n_generations, selection_fn, crossover, mutation, p_mut)\n",
        "\n",
        "# muestra la evolucion del mejor fitness\n",
        "plt.plot(bestfitness)\n",
        "plt.show()\n",
        "\n",
        "# imprime la mejor solucion\n",
        "make_solution_report(best_ind, selection_fn, crossover, mutation)"
      ]
    },
    {
      "cell_type": "code",
      "source": [
        "cord_mono=fitness_m(best_ind.flights, best_ind.gates)\n",
        "x_mono=cord_mono[0]\n",
        "y_mono=cord_mono[1]\n",
        "y_mono"
      ],
      "metadata": {
        "colab": {
          "base_uri": "https://localhost:8080/"
        },
        "id": "Llk1a7EcqXuh",
        "outputId": "c4e51dfa-9e7e-459a-bebe-869e3d4054ce"
      },
      "execution_count": 82,
      "outputs": [
        {
          "output_type": "execute_result",
          "data": {
            "text/plain": [
              "0.0006885348650407634"
            ]
          },
          "metadata": {},
          "execution_count": 82
        }
      ]
    },
    {
      "cell_type": "markdown",
      "source": [
        "### <b>Implementacion del algoritmo multiobjetivo  </b> "
      ],
      "metadata": {
        "id": "XOfEs4Kqzaly"
      }
    },
    {
      "cell_type": "code",
      "source": [
        "from random import shuffle, random, sample, randint, randrange, uniform"
      ],
      "metadata": {
        "id": "o1beCFEtBIM7"
      },
      "execution_count": null,
      "outputs": []
    },
    {
      "cell_type": "code",
      "source": [
        "seed(0)\n",
        "\n",
        "number_of_gates = 10\n",
        "number_of_flights = 30\n",
        "#POP_SIZE = 100\n",
        "MIN_POP_SIZE = 50\n",
        "MAX_POP_SIZE = 50\n",
        "GENERATIONS = 100   # numero de generaciones\n",
        "PMUT = 0.2  # tasa de mutacion\n",
        "# general los vuelos y gates\n",
        "list_of_gates = generate_list_of_gates(number_of_gates)\n",
        "list_of_flights = generate_list_of_flights(number_of_flights)\n",
        "\n",
        "# obtiene el numero de vuelos que el algoritmo genetico puede asignar (no puede ser mayor al numero de gates disponibles) \n",
        "flights_to_assign = number_of_flights if number_of_flights <= number_of_gates\telse number_of_gates\n",
        "  \n",
        "# ordena los vuelos por su deseabilidad y los gates por su capacidad de flujo de personas\n",
        "list_of_flights = sorted(list_of_flights, key=process_desirability, reverse=True)\n",
        "list_of_gates = sorted(list_of_gates, key=process_flow, reverse=True)"
      ],
      "metadata": {
        "id": "TQ-DWCNQDUmx"
      },
      "execution_count": 77,
      "outputs": []
    },
    {
      "cell_type": "code",
      "source": [
        "# Crea  una poblacion inicial\n",
        "poblacion_inicial = init_population( MAX_POP_SIZE, flights_to_assign,list_of_flights,list_of_gates ) "
      ],
      "metadata": {
        "id": "Rk8UGVnL_8TL"
      },
      "execution_count": 78,
      "outputs": []
    },
    {
      "cell_type": "code",
      "source": [
        "## CODIGO PRINCIPAL DEL  ALGORITMO GENETICO  NSGA-II\n",
        "\n",
        "P = deepcopy(poblacion_inicial)  # copia la poblacion inicial en una nueva variable para no alterar la poblacion inicial\n",
        "\n",
        "#  evalua la poblacion inicial\n",
        "evaluate_population(P, fitness_m)\n",
        "\n",
        "## Ejecuta los ciclos evolutivos \n",
        "for g in range(GENERATIONS):   # Por cada generacion\n",
        "    \n",
        "    if g %10 == 0:\n",
        "        print ('Generacion {} (de {}) '.format(g, GENERATIONS))\n",
        "    \n",
        "    ## genera y evalua la poblacion hija    \n",
        "    #n(population, crossover, mutation, pmut): \n",
        "    Q = build_offspring_population(P, \"uniform\", \"position\", PMUT)\n",
        "    evaluate_population(Q, fitness_m)\n",
        "    \n",
        "    ## une la poblacion padre y la poblacion hija\n",
        "    P.extend(Q) \n",
        "    \n",
        "    ## Construye la poblacion de la siguiente generacion\n",
        "    P = build_next_population(P, MIN_POP_SIZE, MAX_POP_SIZE)\n",
        "\n",
        "# Obtiene la poblacion de la frontera de pareto final \n",
        "pareto_front_population = get_paretofront_population(P)"
      ],
      "metadata": {
        "colab": {
          "base_uri": "https://localhost:8080/"
        },
        "id": "pqgdc3o5_-CW",
        "outputId": "7bd7a110-2c2b-47eb-cb62-2f8642b034a6"
      },
      "execution_count": 79,
      "outputs": [
        {
          "output_type": "stream",
          "name": "stdout",
          "text": [
            "Generacion 0 (de 100) \n",
            "Generacion 10 (de 100) \n",
            "Generacion 20 (de 100) \n",
            "Generacion 30 (de 100) \n",
            "Generacion 40 (de 100) \n",
            "Generacion 50 (de 100) \n",
            "Generacion 60 (de 100) \n",
            "Generacion 70 (de 100) \n",
            "Generacion 80 (de 100) \n",
            "Generacion 90 (de 100) \n"
          ]
        }
      ]
    },
    {
      "cell_type": "code",
      "source": [
        "## Plotea los individuos de la frontera de Pareto final\n",
        "pop_size = len(pareto_front_population)\n",
        "num_objectives = len(pareto_front_population[0].fitness)\n",
        "    \n",
        "# extrae los fitness de la poblacion en la matriz fitnesses\n",
        "fitnesses = np.zeros([pop_size, num_objectives])\n",
        "for i in range(pop_size): fitnesses[i,:] = pareto_front_population[i].fitness\n",
        "\n",
        "x = fitnesses[:, 0]\n",
        "y = fitnesses[:, 1]\n",
        "plt.xlabel('Objectivo A - Numero total de pasajeros')\n",
        "plt.ylabel('Objectivo B - Berevedad de embarque(1/tiempoTotal)')\n",
        "plt.scatter(x,y)\n",
        "plt.scatter(x_mono,y_mono,c=\"red\") #\n",
        "#plt.savefig('pareto.png')\n",
        "plt.show()\n",
        "\n"
      ],
      "metadata": {
        "colab": {
          "base_uri": "https://localhost:8080/",
          "height": 304
        },
        "id": "M1UzccFFUP3o",
        "outputId": "1b62c97f-e44a-4d4b-9d8d-fae846f51660"
      },
      "execution_count": 80,
      "outputs": [
        {
          "output_type": "display_data",
          "data": {
            "text/plain": [
              "<Figure size 432x288 with 1 Axes>"
            ],
            "image/png": "[encoded data removed]"
          },
          "metadata": {
            "needs_background": "light"
          }
        }
      ]
    },
    {
      "cell_type": "markdown",
      "source": [
        "### <b>Experimento de algorimo multiobjetivvo por 5 repeticiones </b> "
      ],
      "metadata": {
        "id": "qt5xDBs1k1o8"
      }
    },
    {
      "cell_type": "code",
      "source": [
        "Ejecuciones=5\n",
        "for i in range(Ejecuciones):\n",
        "      P = deepcopy(poblacion_inicial)  # copia la poblacion inicial en una nueva variable para no alterar la poblacion inicial\n",
        "\n",
        "      #  evalua la poblacion inicial\n",
        "      evaluate_population(P, fitness_m)\n",
        "\n",
        "      ## Ejecuta los ciclos evolutivos \n",
        "      for g in range(GENERATIONS):   # Por cada generacion\n",
        "          \n",
        "          if g %10 == 0:\n",
        "              print ('Generacion {} (de {}) '.format(g, GENERATIONS))\n",
        "          \n",
        "          ## genera y evalua la poblacion hija    \n",
        "          #n(population, crossover, mutation, pmut): \n",
        "          Q = build_offspring_population(P, \"uniform\", \"position\", PMUT)\n",
        "          evaluate_population(Q, fitness_m)\n",
        "          \n",
        "          ## une la poblacion padre y la poblacion hija\n",
        "          P.extend(Q) \n",
        "          \n",
        "          ## Construye la poblacion de la siguiente generacion\n",
        "          P = build_next_population(P, MIN_POP_SIZE, MAX_POP_SIZE)\n",
        "\n",
        "      # Obtiene la poblacion de la frontera de pareto final \n",
        "      pareto_front_population = get_paretofront_population(P)\n",
        "\n",
        "      ## Plotea los individuos de la frontera de Pareto final\n",
        "      pop_size = len(pareto_front_population)\n",
        "      num_objectives = len(pareto_front_population[0].fitness)\n",
        "          \n",
        "      # extrae los fitness de la poblacion en la matriz fitnesses\n",
        "      fitnesses = np.zeros([pop_size, num_objectives])\n",
        "      for i in range(pop_size): fitnesses[i,:] = pareto_front_population[i].fitness\n",
        "\n",
        "      x = fitnesses[:, 0]\n",
        "      y = fitnesses[:, 1]\n",
        "      plt.xlabel('Objectivo A - Numero total de pasajeros')\n",
        "      plt.ylabel('Objectivo B - Berevedad de embarque(1/tiempoTotal)')\n",
        "      plt.scatter(x,y)\n",
        "      plt.scatter(x_mono,y_mono,c=\"red\") #\n",
        "      #plt.savefig('pareto.png')\n",
        "      plt.show()"
      ],
      "metadata": {
        "colab": {
          "base_uri": "https://localhost:8080/",
          "height": 1000
        },
        "id": "fBQT5p8zk_DQ",
        "outputId": "88ec9f16-730f-4e13-e5de-88d960e78cf3"
      },
      "execution_count": 83,
      "outputs": [
        {
          "output_type": "stream",
          "name": "stdout",
          "text": [
            "Generacion 0 (de 100) \n",
            "Generacion 10 (de 100) \n",
            "Generacion 20 (de 100) \n",
            "Generacion 30 (de 100) \n",
            "Generacion 40 (de 100) \n",
            "Generacion 50 (de 100) \n",
            "Generacion 60 (de 100) \n",
            "Generacion 70 (de 100) \n",
            "Generacion 80 (de 100) \n",
            "Generacion 90 (de 100) \n"
          ]
        },
        {
          "output_type": "display_data",
          "data": {
            "text/plain": [
              "<Figure size 432x288 with 1 Axes>"
            ],
            "image/png": "[encoded data removed]"
          },
          "metadata": {
            "needs_background": "light"
          }
        },
        {
          "output_type": "stream",
          "name": "stdout",
          "text": [
            "Generacion 0 (de 100) \n",
            "Generacion 10 (de 100) \n",
            "Generacion 20 (de 100) \n",
            "Generacion 30 (de 100) \n",
            "Generacion 40 (de 100) \n",
            "Generacion 50 (de 100) \n",
            "Generacion 60 (de 100) \n",
            "Generacion 70 (de 100) \n",
            "Generacion 80 (de 100) \n",
            "Generacion 90 (de 100) \n"
          ]
        },
        {
          "output_type": "display_data",
          "data": {
            "text/plain": [
              "<Figure size 432x288 with 1 Axes>"
            ],
            "image/png": "[encoded data removed]"
          },
          "metadata": {
            "needs_background": "light"
          }
        },
        {
          "output_type": "stream",
          "name": "stdout",
          "text": [
            "Generacion 0 (de 100) \n",
            "Generacion 10 (de 100) \n",
            "Generacion 20 (de 100) \n",
            "Generacion 30 (de 100) \n",
            "Generacion 40 (de 100) \n",
            "Generacion 50 (de 100) \n",
            "Generacion 60 (de 100) \n",
            "Generacion 70 (de 100) \n",
            "Generacion 80 (de 100) \n",
            "Generacion 90 (de 100) \n"
          ]
        },
        {
          "output_type": "display_data",
          "data": {
            "text/plain": [
              "<Figure size 432x288 with 1 Axes>"
            ],
            "image/png": "[encoded data removed]"
          },
          "metadata": {
            "needs_background": "light"
          }
        },
        {
          "output_type": "stream",
          "name": "stdout",
          "text": [
            "Generacion 0 (de 100) \n",
            "Generacion 10 (de 100) \n",
            "Generacion 20 (de 100) \n",
            "Generacion 30 (de 100) \n",
            "Generacion 40 (de 100) \n",
            "Generacion 50 (de 100) \n",
            "Generacion 60 (de 100) \n",
            "Generacion 70 (de 100) \n",
            "Generacion 80 (de 100) \n",
            "Generacion 90 (de 100) \n"
          ]
        },
        {
          "output_type": "display_data",
          "data": {
            "text/plain": [
              "<Figure size 432x288 with 1 Axes>"
            ],
            "image/png": "[encoded data removed]"
          },
          "metadata": {
            "needs_background": "light"
          }
        },
        {
          "output_type": "stream",
          "name": "stdout",
          "text": [
            "Generacion 0 (de 100) \n",
            "Generacion 10 (de 100) \n",
            "Generacion 20 (de 100) \n",
            "Generacion 30 (de 100) \n",
            "Generacion 40 (de 100) \n",
            "Generacion 50 (de 100) \n",
            "Generacion 60 (de 100) \n",
            "Generacion 70 (de 100) \n",
            "Generacion 80 (de 100) \n",
            "Generacion 90 (de 100) \n"
          ]
        },
        {
          "output_type": "display_data",
          "data": {
            "text/plain": [
              "<Figure size 432x288 with 1 Axes>"
            ],
            "image/png": "[encoded data removed]"
          },
          "metadata": {
            "needs_background": "light"
          }
        }
      ]
    }
  ],
  "metadata": {
    "colab": {
      "collapsed_sections": [],
      "name": "Asignacion_VuelosGates_Multiobjetivo.ipynb",
      "provenance": []
    },
    "kernelspec": {
      "display_name": "Python 3",
      "language": "python",
      "name": "python3"
    },
    "language_info": {
      "codemirror_mode": {
        "name": "ipython",
        "version": 3
      },
      "file_extension": ".py",
      "mimetype": "text/x-python",
      "name": "python",
      "nbconvert_exporter": "python",
      "pygments_lexer": "ipython3",
      "version": "3.8.3"
    },
    "accelerator": "GPU"
  },
  "nbformat": 4,
  "nbformat_minor": 0
}